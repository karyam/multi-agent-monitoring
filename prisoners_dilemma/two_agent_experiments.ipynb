{
 "cells": [
  {
   "cell_type": "code",
   "execution_count": null,
   "metadata": {},
   "outputs": [],
   "source": [
    "model = goodfire_model.Llama8B()"
   ]
  },
  {
   "cell_type": "code",
   "execution_count": null,
   "metadata": {},
   "outputs": [],
   "source": [
    "prisoner_dilemma_two_agents = = game_master.GameMaster(\n",
    "      model=model,\n",
    "      memory=game_master_memory,\n",
    "      clock=clock,\n",
    "      name=f'{scene_type_name} decision environment',\n",
    "      players=players,\n",
    "      components=[schelling_payoffs],\n",
    "      action_spec=action_spec,\n",
    "      update_thought_chain=[thought_chains_lib.identity],\n",
    "      randomise_initiative=True,\n",
    "      player_observes_event=False,\n",
    "      concurrent_externalities=False,\n",
    "      verbose=verbose,\n",
    "  )"
   ]
  }
 ],
 "metadata": {
  "kernelspec": {
   "display_name": "venv3_11",
   "language": "python",
   "name": "python3"
  },
  "language_info": {
   "name": "python",
   "version": "3.11.11"
  }
 },
 "nbformat": 4,
 "nbformat_minor": 2
}
