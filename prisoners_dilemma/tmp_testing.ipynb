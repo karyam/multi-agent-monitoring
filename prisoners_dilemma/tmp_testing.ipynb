{
 "cells": [
  {
   "cell_type": "code",
   "execution_count": 1,
   "metadata": {},
   "outputs": [
    {
     "name": "stdout",
     "output_type": "stream",
     "text": [
      "[1]\n",
      "[1]\n",
      "[1]\n",
      "[1, 2]\n"
     ]
    }
   ],
   "source": [
    "import copy\n",
    "class CompoundObject:\n",
    "    def __init__(self):\n",
    "        self.nested_list = []\n",
    "\n",
    "obj = CompoundObject()\n",
    "shallow_copy = copy.copy(obj)\n",
    "shallow_copy.nested_list.append(1)\n",
    "print(obj.nested_list)\n",
    "print(shallow_copy.nested_list)\n",
    "\n",
    "deep_copy = copy.deepcopy(obj)\n",
    "deep_copy.nested_list.append(2)\n",
    "print(obj.nested_list)\n",
    "print(deep_copy.nested_list)\n"
   ]
  },
  {
   "cell_type": "code",
   "execution_count": null,
   "metadata": {},
   "outputs": [],
   "source": []
  }
 ],
 "metadata": {
  "kernelspec": {
   "display_name": "venv3_11",
   "language": "python",
   "name": "python3"
  },
  "language_info": {
   "codemirror_mode": {
    "name": "ipython",
    "version": 3
   },
   "file_extension": ".py",
   "mimetype": "text/x-python",
   "name": "python",
   "nbconvert_exporter": "python",
   "pygments_lexer": "ipython3",
   "version": "3.11.11"
  }
 },
 "nbformat": 4,
 "nbformat_minor": 2
}
